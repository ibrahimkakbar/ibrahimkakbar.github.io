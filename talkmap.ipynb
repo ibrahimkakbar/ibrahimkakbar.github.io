{
 "cells": [
  {
   "cell_type": "markdown",
   "metadata": {},
   "source": [
    "# Leaflet cluster map of talk locations\n",
    "\n",
    "Run this from the _talks/ directory, which contains .md files of all your talks. This scrapes the location YAML field from each .md file, geolocates it with geopy/Nominatim, and uses the getorg library to output data, HTML, and Javascript for a standalone cluster map."
   ]
  },
  {
   "cell_type": "code",
   "execution_count": 16,
   "metadata": {},
   "outputs": [],
   "source": [
    "import glob\n",
    "import getorg\n",
    "import os\n",
    "from geopy import Nominatim"
   ]
  },
  {
   "cell_type": "code",
   "execution_count": 31,
   "metadata": {},
   "outputs": [
    {
     "name": "stdout",
     "output_type": "stream",
     "text": [
      "['_layouts', '_pages', '_includes', 'markdown_generator', 'files', 'Gemfile.lock', '_notes', 'CHANGELOG.md', 'images', '_data', 'Gemfile', 'README.md', '_portfolio', '_config.yml', 'LICENSE', 'talkmap', '_talks', 'CONTRIBUTING.md', '.ipynb_checkpoints', '_posts', '_config.dev.yml', 'talkmap.py', 'assets', '_publications', '.gitignore', 'package.json', '_drafts', '.git', '_sass', 'talkmap.ipynb', '_teaching']\n",
      "['./talkmap/locations.txt']\n"
     ]
    }
   ],
   "source": [
    "g = glob.glob(\"./talkmap/*.txt\")\n",
    "print(g)"
   ]
  },
  {
   "cell_type": "code",
   "execution_count": 32,
   "metadata": {},
   "outputs": [],
   "source": [
    "geocoder = Nominatim()\n",
    "location_dict = {}\n",
    "location = \"\"\n",
    "permalink = \"\"\n",
    "title = \"\""
   ]
  },
  {
   "cell_type": "code",
   "execution_count": 71,
   "metadata": {},
   "outputs": [
    {
     "name": "stdout",
     "output_type": "stream",
     "text": [
      "\"San Diego, CA\"\n",
      "\n",
      "\"Rochester, NY\"\n",
      "\n",
      "\"Toronto, Canada\"\n",
      "\n",
      "\"Hamburg, Germany\"\n",
      "\n",
      "\"Bangkok, Thailand\"\n",
      "\n",
      "\"Chang Mai, Thailand\"\n",
      "\n",
      "\"New Orleans, LA\"\n",
      "\n",
      "\"Cape Town, South Africa\"\n",
      "\n",
      "\"Saint Petersburg, Russia\"\n",
      "\n",
      "\"Joao Pessoa, Brazil\"\n",
      "\n",
      "\"Lencois, Brazil\"\n",
      "\n",
      "\"Tijuana, Mexico\"\n",
      "\n",
      "\"Siem Reap, Cambodia\"\n",
      "\n",
      "('Siem Reap, Cambodia\"\\n', '\\n', Location((13.3586258, 103.8610377, 0.0)))\n"
     ]
    }
   ],
   "source": [
    "\n",
    "for file in g:\n",
    "    with open(file, 'r') as f:\n",
    "        lines = f.readlines()\n",
    "        for i,line in enumerate(lines):\n",
    "            line_trim = line.split(\" \",1)\n",
    "            line_loc = line_trim[1]\n",
    "            location = line_loc.rstrip('\"').lstrip('\"')\n",
    "            location_dict[location] = geocoder.geocode(location)\n",
    "        \n",
    "        print(location, \"\\n\", location_dict[location])\n"
   ]
  },
  {
   "cell_type": "code",
   "execution_count": 73,
   "metadata": {},
   "outputs": [
    {
     "data": {
      "text/plain": [
       "'Written map to ../talkmap/'"
      ]
     },
     "execution_count": 73,
     "metadata": {},
     "output_type": "execute_result"
    }
   ],
   "source": [
    "m = getorg.orgmap.create_map_obj()\n",
    "getorg.orgmap.output_html_cluster_map(location_dict, folder_name=\"../talkmap\", hashed_usernames=False)"
   ]
  },
  {
   "cell_type": "code",
   "execution_count": null,
   "metadata": {
    "collapsed": true
   },
   "outputs": [],
   "source": []
  }
 ],
 "metadata": {
  "anaconda-cloud": {},
  "kernelspec": {
   "display_name": "Python 2",
   "language": "python",
   "name": "python2"
  },
  "language_info": {
   "codemirror_mode": {
    "name": "ipython",
    "version": 2
   },
   "file_extension": ".py",
   "mimetype": "text/x-python",
   "name": "python",
   "nbconvert_exporter": "python",
   "pygments_lexer": "ipython2",
   "version": "2.7.12"
  }
 },
 "nbformat": 4,
 "nbformat_minor": 1
}
